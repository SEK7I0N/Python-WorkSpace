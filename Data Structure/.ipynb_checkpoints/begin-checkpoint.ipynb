{
 "cells": [
  {
   "cell_type": "markdown",
   "metadata": {},
   "source": [
    "## Stack"
   ]
  },
  {
   "cell_type": "code",
   "execution_count": 1,
   "metadata": {},
   "outputs": [],
   "source": [
    "class stack:\n",
    "    # creating a constructor for stack class to make the stack\n",
    "    def __init__(self):\n",
    "        self.stack = list()\n",
    "    \n",
    "    # we are creating pop function which will remove the element from the top of the stack \n",
    "    def pop(self):\n",
    "        if self.stack.len() > 0:\n",
    "            return self.stack.pop()\n",
    "        return None\n",
    "    \n",
    "    # we are creating push function which will add the element from the top of the stack.\n",
    "    def push(self,item):\n",
    "        self.stack.append(item)\n",
    "    \n",
    "    # we are creating peak function which will retun the element from the top of the stack without removing it.\n",
    "    def peak(self,):\n",
    "        if self.stack.len() > 0:\n",
    "            return self.stack[-1]\n",
    "        return None\n",
    "    \n",
    "        "
   ]
  },
  {
   "cell_type": "markdown",
   "metadata": {},
   "source": [
    "## Queue"
   ]
  },
  {
   "cell_type": "code",
   "execution_count": 5,
   "metadata": {},
   "outputs": [
    {
     "name": "stdout",
     "output_type": "stream",
     "text": [
      "deque([10, 20, 30])\n",
      "10\n",
      "40\n",
      "deque([20, 30])\n"
     ]
    }
   ],
   "source": [
    "from collections import deque\n",
    "my_queue = deque()\n",
    "my_queue.append(10)\n",
    "my_queue.append(20)\n",
    "my_queue.append(30)\n",
    "print(my_queue)\n",
    "print(my_queue.popleft())\n",
    "my_queue.append(40)\n",
    "print(my_queue.pop())\n",
    "print(my_queue)"
   ]
  },
  {
   "cell_type": "markdown",
   "metadata": {},
   "source": [
    "## Max Heap"
   ]
  },
  {
   "cell_type": "code",
   "execution_count": 2,
   "metadata": {},
   "outputs": [],
   "source": [
    "class MaxHeap:\n",
    "    \n",
    "    def __init__(self, items = []):\n",
    "        self.heap = [0]\n",
    "        for item in items:\n",
    "            self.heap.append(item)\n",
    "            self.__floatUp(len(self.heap) - 1)\n",
    "    \n",
    "    def push(self, data):\n",
    "        self.heap.append(data)\n",
    "        self.__floatUp(len(self.heap) - 1)\n",
    "        \n",
    "    def peak(self):\n",
    "        if self.heap[1]:\n",
    "            return self.heap[1]\n",
    "        return False\n",
    "\n",
    "    def pop(self):\n",
    "        if len(self.heap) > 2:\n",
    "            self.__swap(1, len(self.heap) - 1)\n",
    "            max = self.heap.pop()\n",
    "            self.__bubbleDown(1)\n",
    "        elif len(self.heap) == 2:\n",
    "            self.heap.pop()\n",
    "        else:\n",
    "            max = False\n",
    "        return max\n",
    "    \n",
    "    def __swap(self, i, j):\n",
    "        self.heap[i], self.heap[j] = self.heap[j], self.heap[i]\n",
    "    \n",
    "    def __floatUp(self, index):\n",
    "        parent = index // 2\n",
    "        if index <= 1:\n",
    "            return None\n",
    "        elif self.heap[index] > self.heap[parent]:\n",
    "            self.heap.__swap(index,parent)\n",
    "            self.heap._floatUp(parent)\n",
    "            \n",
    "    def __bubbleDown(self,index):\n",
    "        left = index*2\n",
    "        right = index*2 +1\n",
    "        largest = index\n",
    "        if self.heap[left] > self.heap[largest] and len(self.heap) > left:\n",
    "            largest = left\n",
    "        elif self.heap[right] > self.heap[largest] and len(self.heap) > left:            \n",
    "            largest = right\n",
    "        if largest != index:\n",
    "            self.__swap(index, largest)\n",
    "            self.__bubbleDown(largest)"
   ]
  },
  {
   "cell_type": "markdown",
   "metadata": {},
   "source": [
    "## Node"
   ]
  },
  {
   "cell_type": "code",
   "execution_count": 4,
   "metadata": {},
   "outputs": [],
   "source": [
    "class Node:\n",
    "    \n",
    "    def __init__ (self, d, n = None, p = None):\n",
    "        self.data = d\n",
    "        self.next_node = n\n",
    "        self.prev_node = p\n",
    "    \n",
    "    def __str__(self):\n",
    "        return ('('+str(self.data)+')')"
   ]
  },
  {
   "cell_type": "markdown",
   "metadata": {},
   "source": [
    "## Linked List"
   ]
  },
  {
   "cell_type": "code",
   "execution_count": 17,
   "metadata": {},
   "outputs": [],
   "source": [
    "class LinkedList:\n",
    "    \n",
    "    def __init__( self, r = None):\n",
    "        self.root = r\n",
    "        self.size = 0\n",
    "    \n",
    "    def add(self, d):\n",
    "        new_node = Node( d, self.root)\n",
    "        self.root = new_node\n",
    "        self.size += 1\n",
    "    \n",
    "    def find(self, d):\n",
    "        this_node = self.root\n",
    "        while this_node is not None:\n",
    "            if this_node.data == d:\n",
    "                return d\n",
    "            else:\n",
    "                this_node = this_node.next_node\n",
    "        return None\n",
    "    \n",
    "    def remove(self, d):\n",
    "        this_node = self.root\n",
    "        prev_node = None\n",
    "        while this_node is not None:\n",
    "            if this_node.data == d:\n",
    "                if prev_node is not None:\n",
    "                    prev_node.next_node = this_node.next_node\n",
    "                else:\n",
    "                    self.root = this_node.next_node\n",
    "                self.size -= 1\n",
    "                return True\n",
    "            else:\n",
    "                prev_node = this_node\n",
    "                this_node = this_node.next_node\n",
    "        return False\n",
    "    \n",
    "    def print_list(self):\n",
    "        this_node  = self.root\n",
    "        while this_node is not None:\n",
    "            print(this_node, end='-->')\n",
    "            this_node = this_node.next_node\n",
    "        print(None)"
   ]
  },
  {
   "cell_type": "code",
   "execution_count": 18,
   "metadata": {},
   "outputs": [
    {
     "name": "stdout",
     "output_type": "stream",
     "text": [
      "(25)-->(15)-->(5)-->None\n",
      "35\n",
      "(45)-->(35)-->(25)-->(5)-->None\n",
      "(45)-->(35)-->(25)-->None\n"
     ]
    }
   ],
   "source": [
    "MyList = LinkedList()\n",
    "MyList.add(5)\n",
    "MyList.add(15)\n",
    "MyList.add(25)\n",
    "MyList.print_list()\n",
    "MyList.remove(35)\n",
    "MyList.remove(15)\n",
    "MyList.add(35)\n",
    "MyList.add(45)\n",
    "print(MyList.find(35))\n",
    "MyList.print_list()\n",
    "MyList.remove(5)\n",
    "MyList.print_list()"
   ]
  },
  {
   "cell_type": "code",
   "execution_count": null,
   "metadata": {},
   "outputs": [],
   "source": [
    "class CircularLinkedList:\n",
    "    \n",
    "    def __init__( self, r = None):\n",
    "        self.root = r\n",
    "        self.size = 0\n",
    "    \n",
    "    def add(self, d):\n",
    "        \n",
    "        if self.size == 0:\n",
    "            self.root = Node(d)\n",
    "            self.root.next_node = self.root\n",
    "        else:\n",
    "            new_node = Node( d, self.root.next_node)\n",
    "            self.root.next_node = new_node\n",
    "        self.size += 1\n",
    "    \n",
    "    def find(self, d):\n",
    "        this_node = self.root\n",
    "        while True:\n",
    "            if this_node.data == d:\n",
    "                return d\n",
    "            elif this_node.next_node == self.root:\n",
    "                return False\n",
    "            this_node = this_node.next_node\n",
    "    \n",
    "    def remove(self, d):\n",
    "        this_node = self.root\n",
    "        prev_node = None\n",
    "        while True:\n",
    "            if this_node.data == d:\n",
    "                if prev_node is not None:\n",
    "                    prev_node.next_node = this_node.next_node\n",
    "                else:\n",
    "                    while this_node.next_node !== self.root:\n",
    "                        this_node = this_node.next_node \n",
    "                    this_node.next_node = self.root.next_node\n",
    "                    self.root = this_node.next_node\n",
    "                self.size -= 1\n",
    "                return True\n",
    "            elif this_node.next_node == self.root:\n",
    "                return False\n",
    "            prev_node = this_node\n",
    "            this_node = this_node.next_node\n",
    "        \n",
    "    \n",
    "    def print_list(self):\n",
    "        this_node  = self.root\n",
    "        while this_node is not None:\n",
    "            print(this_node, end='-->')\n",
    "            this_node = this_node.next_node\n",
    "        print(None)"
   ]
  },
  {
   "cell_type": "code",
   "execution_count": null,
   "metadata": {},
   "outputs": [],
   "source": []
  }
 ],
 "metadata": {
  "kernelspec": {
   "display_name": "Python 3",
   "language": "python",
   "name": "python3"
  },
  "language_info": {
   "codemirror_mode": {
    "name": "ipython",
    "version": 3
   },
   "file_extension": ".py",
   "mimetype": "text/x-python",
   "name": "python",
   "nbconvert_exporter": "python",
   "pygments_lexer": "ipython3",
   "version": "3.8.5"
  }
 },
 "nbformat": 4,
 "nbformat_minor": 4
}
